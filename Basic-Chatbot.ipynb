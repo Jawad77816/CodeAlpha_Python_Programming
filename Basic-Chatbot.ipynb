{
  "cells": [
    {
      "cell_type": "markdown",
      "metadata": {
        "id": "view-in-github",
        "colab_type": "text"
      },
      "source": [
        "<a href=\"https://colab.research.google.com/github/Jawad77816/CodeAlpha_Python_Programming/blob/main/Basic-Chatbot.ipynb\" target=\"_parent\"><img src=\"https://colab.research.google.com/assets/colab-badge.svg\" alt=\"Open In Colab\"/></a>"
      ]
    },
    {
      "cell_type": "code",
      "source": [
        "!pip install nltk\n",
        "\n",
        "import nltk\n",
        "from nltk.chat.util import Chat, reflections\n",
        "import random\n",
        "\n",
        "pairs = [\n",
        "    [\n",
        "        r\"my name is (.*)\",\n",
        "        [\"Hello %1, how are you today?\", \"Hi %1! How's it going?\"],\n",
        "    ],\n",
        "    [\n",
        "        r\"what is your name ?\",\n",
        "        [\"My name is Chatbot and I'm here to help.\", \"You can call me Chatbot!\"],\n",
        "    ],\n",
        "    [\n",
        "        r\"how are you ?\",\n",
        "        [\"I'm doing good, how about you?\", \"I'm great! How are you?\"],\n",
        "    ],\n",
        "    [\n",
        "        r\"sorry (.*)\",\n",
        "        [\"It's alright\", \"No worries!\", \"It's OK, don't worry.\"],\n",
        "    ],\n",
        "    [\n",
        "        r\"i'm (.*) doing good\",\n",
        "        [\"Nice to hear that\", \"Alright :)\", \"That's awesome!\"],\n",
        "    ],\n",
        "    [\n",
        "        r\"hi|hey|hello\",\n",
        "        [\"Hello\", \"Hey there\", \"Hi! How can I assist you today?\"],\n",
        "    ],\n",
        "    [\n",
        "        r\"(.*) age?\",\n",
        "        [\"I'm a computer program, I don't have an age.\", \"Age is just a number for me!\"],\n",
        "    ],\n",
        "    [\n",
        "        r\"what (.*) want ?\",\n",
        "        [\"I want to help you.\", \"I'm here to assist you with anything you need.\"],\n",
        "    ],\n",
        "    [\n",
        "        r\"(.*) created ?\",\n",
        "        [\"I was created by a kind developer.\", \"A brilliant developer made me.\"],\n",
        "    ],\n",
        "    [\n",
        "        r\"(.*) (location|city) ?\",\n",
        "        [\"I'm in the cloud!\", \"I exist in the digital world.\"],\n",
        "    ],\n",
        "    [\n",
        "        r\"how is weather in (.*)?\",\n",
        "        [\"Weather in %1 is unpredictable, you better check the forecast.\", \"I heard it's nice in %1.\"],\n",
        "    ],\n",
        "    [\n",
        "        r\"i work in (.*)?\",\n",
        "        [\"%1 is an interesting field, tell me more about it.\", \"Wow, %1 sounds fascinating!\"],\n",
        "    ],\n",
        "    [\n",
        "        r\"(.*)raining in (.*)\",\n",
        "        [\"Hope you're not getting wet in %2\", \"Stay dry in %2!\"],\n",
        "    ],\n",
        "    [\n",
        "        r\"how (.*) health (.*)\",\n",
        "        [\"I'm a computer program, I don't worry about health.\", \"Health is wealth, but I don't have to worry about it!\"],\n",
        "    ],\n",
        "    [\n",
        "        r\"(.*) (sports|game) ?\",\n",
        "        [\"I'm a fan of all kinds of sports!\", \"I love sports! What's your favorite?\"],\n",
        "    ],\n",
        "    [\n",
        "        r\"who (.*) (moviestar|actor)?\",\n",
        "        [\"There are so many great actors, it's hard to choose just one.\", \"I like too many to pick just one!\"],\n",
        "    ],\n",
        "    [\n",
        "        r\"tell me a joke\",\n",
        "        [\"Why don't scientists trust atoms? Because they make up everything!\", \"Why did the scarecrow win an award? Because he was outstanding in his field!\"],\n",
        "    ],\n",
        "    [\n",
        "        r\"quit\",\n",
        "        [\"Bye, take care. See you soon :)\", \"It was nice talking to you. See you soon :)\"],\n",
        "    ],\n",
        "]\n",
        "\n",
        "def chatbot():\n",
        "    print(\"Hi, I'm Chatbot! How can I help you today?\")\n",
        "    chat = Chat(pairs, reflections)\n",
        "    chat.converse()\n",
        "\n",
        "if __name__ == \"__main__\":\n",
        "    nltk.download('punkt')\n",
        "    chatbot()\n"
      ],
      "metadata": {
        "colab": {
          "base_uri": "https://localhost:8080/"
        },
        "id": "9hbOGhRlVeKO",
        "outputId": "328a68fa-6195-491f-e671-f3cdd4cffd73"
      },
      "execution_count": null,
      "outputs": [
        {
          "output_type": "stream",
          "name": "stdout",
          "text": [
            "Requirement already satisfied: nltk in /usr/local/lib/python3.10/dist-packages (3.8.1)\n",
            "Requirement already satisfied: click in /usr/local/lib/python3.10/dist-packages (from nltk) (8.1.7)\n",
            "Requirement already satisfied: joblib in /usr/local/lib/python3.10/dist-packages (from nltk) (1.4.2)\n",
            "Requirement already satisfied: regex>=2021.8.3 in /usr/local/lib/python3.10/dist-packages (from nltk) (2024.5.15)\n",
            "Requirement already satisfied: tqdm in /usr/local/lib/python3.10/dist-packages (from nltk) (4.66.5)\n"
          ]
        },
        {
          "output_type": "stream",
          "name": "stderr",
          "text": [
            "[nltk_data] Downloading package punkt to /root/nltk_data...\n",
            "[nltk_data]   Package punkt is already up-to-date!\n"
          ]
        },
        {
          "output_type": "stream",
          "name": "stdout",
          "text": [
            "Hi, I'm Chatbot! How can I help you today?\n",
            ">hi\n",
            "Hello\n",
            ">How are you\n",
            "I'm doing good, how about you?\n",
            ">What is your name\n",
            "My name is Chatbot and I'm here to help.\n",
            ">Thank you\n",
            "None\n"
          ]
        }
      ]
    }
  ],
  "metadata": {
    "colab": {
      "provenance": [],
      "authorship_tag": "ABX9TyN9vNbWCco+vcRQ8qbEaAbu",
      "include_colab_link": true
    },
    "kernelspec": {
      "display_name": "Python 3",
      "name": "python3"
    },
    "language_info": {
      "name": "python"
    }
  },
  "nbformat": 4,
  "nbformat_minor": 0
}