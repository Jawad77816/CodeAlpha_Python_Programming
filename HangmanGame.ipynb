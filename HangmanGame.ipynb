{
  "nbformat": 4,
  "nbformat_minor": 0,
  "metadata": {
    "colab": {
      "provenance": [],
      "authorship_tag": "ABX9TyPbZbYeAaE1yPrI+cfIzHrg",
      "include_colab_link": true
    },
    "kernelspec": {
      "name": "python3",
      "display_name": "Python 3"
    },
    "language_info": {
      "name": "python"
    }
  },
  "cells": [
    {
      "cell_type": "markdown",
      "metadata": {
        "id": "view-in-github",
        "colab_type": "text"
      },
      "source": [
        "<a href=\"https://colab.research.google.com/github/Jawad77816/CodeAlpha_Python_Programming/blob/main/HangmanGame.ipynb\" target=\"_parent\"><img src=\"https://colab.research.google.com/assets/colab-badge.svg\" alt=\"Open In Colab\"/></a>"
      ]
    },
    {
      "cell_type": "code",
      "source": [
        "\n",
        "import random\n",
        "\n",
        "def hangman():\n",
        "  word_list = [\"Jawad\", \"Ahmad\", \"Information\", \"Data\", \"Life\"]\n",
        "  word = random.choice(word_list)\n",
        "  wrong_guesses = 0\n",
        "  stages = [\"\",\n",
        "            \"________        \",\n",
        "            \"|               \",\n",
        "            \"|        |      \",\n",
        "            \"|        O      \",\n",
        "            \"|       /|\\     \",\n",
        "            \"|       / \\     \",\n",
        "            \"|               \"\n",
        "            ]\n",
        "  remaining_letters = list(word)\n",
        "  board = [\"__\"] * len(word)\n",
        "  win = False\n",
        "  print(\"Welcome to Hangman\")\n",
        "\n",
        "  while wrong_guesses < len(stages) - 1:\n",
        "    print(\"\\n\")\n",
        "    msg = \"Guess a letter: \"\n",
        "    char = input(msg)\n",
        "    if char in remaining_letters:\n",
        "      cind = remaining_letters.index(char)\n",
        "      board[cind] = char\n",
        "      remaining_letters[cind] = '$'\n",
        "    else:\n",
        "      wrong_guesses += 1\n",
        "    print((\" \".join(board)))\n",
        "    e = wrong_guesses + 1\n",
        "    print(\"\\n\"\n",
        "          .join(stages[0: e]))\n",
        "    if \"__\" not in board:\n",
        "      print(\"You win! The word was:\")\n",
        "      print(\" \".join(board))\n",
        "      win = True\n",
        "      break\n",
        "  if not win:\n",
        "    print(\"\\n\"\n",
        "          .join(stages[0: wrong_guesses]))\n",
        "    print(\"You lose! It was {}.\".format(word))\n",
        "\n",
        "hangman()\n"
      ],
      "metadata": {
        "colab": {
          "base_uri": "https://localhost:8080/"
        },
        "id": "56pAhtRCJiGI",
        "outputId": "eb3bde6c-e95b-44a4-9977-9af513de2c15"
      },
      "execution_count": null,
      "outputs": [
        {
          "output_type": "stream",
          "name": "stdout",
          "text": [
            "Welcome to Hangman\n",
            "\n",
            "\n",
            "Guess a letter: J\n",
            "__ __ __ __ __\n",
            "\n",
            "________        \n",
            "\n",
            "\n",
            "Guess a letter: A\n",
            "A __ __ __ __\n",
            "\n",
            "________        \n",
            "\n",
            "\n",
            "Guess a letter: M\n",
            "A __ __ __ __\n",
            "\n",
            "________        \n",
            "|               \n",
            "\n",
            "\n",
            "Guess a letter: P\n",
            "A __ __ __ __\n",
            "\n",
            "________        \n",
            "|               \n",
            "|        |      \n",
            "\n",
            "\n"
          ]
        }
      ]
    }
  ]
}